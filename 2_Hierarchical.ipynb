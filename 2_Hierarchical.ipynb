{
  "cells": [
    {
      "cell_type": "markdown",
      "metadata": {
        "id": "UTS6BSbCL4sw"
      },
      "source": [
        "## Algoritmo Hierarchical Clustering\n",
        "##### por Javier Vallejos\n"
      ]
    },
    {
      "cell_type": "markdown",
      "metadata": {
        "id": "bvyjxv1aMF9C"
      },
      "source": [
        "### 1. Descripción"
      ]
    },
    {
      "cell_type": "markdown",
      "metadata": {
        "id": "iagHYjSZRYWx"
      },
      "source": [
        "El algoritmo Hierarchical Clustering (Agrupamiento Jerárquico) es un enfoque de clustering utilizado para agrupar datos en una estructura jerárquica de clústeres. A diferencia de otros métodos de clustering, el Clustering Jerarquico no requiere que especifiques el número de clústeres de antemano. En cambio, crea una jerarquía de clústeres donde los clústeres más pequeños están contenidos dentro de clústeres más grandes, formando un árbol o dendrograma."
      ]
    },
    {
      "cell_type": "markdown",
      "metadata": {
        "id": "BgAosiGKMICe"
      },
      "source": [
        "### 2. Birtex y Referencias:"
      ]
    },
    {
      "cell_type": "markdown",
      "metadata": {
        "id": "NRirwspKOgiw"
      },
      "source": [
        "* @article{berzal2017clustering,\n",
        "  title={Clustering jer{\\'a}rquico},\n",
        "  author={Berzal, Fernando},\n",
        "  journal={Universidad de Granada,[En l{\\'\\i}nea]. Available: https://elvex. ugr. es/idbis/dm/slides/42\\% 20Clustering},\n",
        "  year={2017}\n",
        "}"
      ]
    },
    {
      "cell_type": "markdown",
      "metadata": {
        "id": "SCC4SVK3MLWZ"
      },
      "source": [
        "### 3. Tipo de Modelo:"
      ]
    },
    {
      "cell_type": "markdown",
      "metadata": {
        "id": "AXLeGpLJZczo"
      },
      "source": [
        "**Método de Aprendizaje:**Es un método de aprendizaje no supervisado. En el aprendizaje no supervisado, el algoritmo explora patrones y estructuras en los datos sin utilizar etiquetas o resultados previos. En el caso del clustering jerárquico, los objetos se agrupan en clústeres en función de su similitud, sin que se proporcionen etiquetas o categorías de antemano.\n",
        "\n",
        "**Por Parámetro:** Clustering Jerárquico es un enfoque que no se basa en parámetros que se optimizan durante el entrenamiento. No ajusta parámetros internos del algoritmo según los datos de entrada. Más bien, requiere que tomes decisiones sobre cómo se llevará a cabo el proceso de agrupamiento, como la elección de métodos de enlace, métricas de distancia y criterios de corte.\n",
        "\n",
        "**Datos de Aprendizaje:** Funciona en un enfoque \"offline\"  lo que significa que opera en un conjunto de datos fijo y no se adapta a nuevos datos que llegan de manera continua.\n",
        "\n",
        "**Resultado del Entrenamiento:** Ealgoritmo de Clustering Jerárquico no es un \"modelo\" ya que el resultado es una estructura jerárquica de clústeres que puede representarse visualmente a través de un dendrograma.\n"
      ]
    },
    {
      "cell_type": "markdown",
      "metadata": {
        "id": "kDA0oYuiMUDZ"
      },
      "source": [
        "### 4. Algoritmos de Entrenamiento:"
      ]
    },
    {
      "cell_type": "markdown",
      "metadata": {
        "id": "qgPtDQxwZ4HG"
      },
      "source": [
        "•\tBIRCH: Balanced Iterative Reducing and Clustering using Hierarchies (Zhang, Ramakrishnan & Livny, SIGMOD’1996)\n",
        "\n",
        "•\tCURE: Clustering Using REpresentatives (Guha, Rastogi & Shim, SIGMOD’1998)\n",
        "\n",
        "•\tROCK: RObust Clustering using linKs (Guha, Rastogi & Shim, ICDE’1999)\n",
        "\n",
        "•\tCHAMELEON: Hierarchical Clustering Using Dynamic Modeling (Karypis, Han & Kumar, 1999)\n",
        "\n",
        "BIRCH: Se basa en una estructura de datos jerárquica llamada CF Tree [Clustering Feature Tree]\n",
        "\n",
        "FASE 1: Se construye un árbol CF inicial en memoria (compresión “multi-nivel” de los datos que intenta preservar la estructura de los agrupamientos del conjunto de datos original).\n",
        "\n",
        "FASE 2: Se utiliza un algoritmo de clustering arbitrario para agrupar los nodos hoja del árbol CF (p.ej. cualquier algoritmo jerárquico aglomerativo). Clustering Feature (CF): CF = (N, LS, SS) N: Number of data points LS: linear sum of N points SS: square sum of N points.\n",
        "\n",
        "El árbol CF es un árbol balanceado en el que los nodos internos almacenan las sumas de los CFs de sus descendientes.\n",
        "\n",
        "Un árbol CF tiene dos parámetros: el número máximo de hijos de un nodo y el diámetro máximo de los subclusters almacenados en las hojas del árbol.\n",
        "\n",
        "Para cada punto, se encuentra la hoja más cercana, se añade a su cluster y se actualiza su CF. Si el diámetro del subcluster es mayor que el diámetro máximo admitido, se divide la hoja (y puede que sus ascendientes).\n",
        "\n",
        "ROCK [Agrupación robusta mediante enlaces]:\n",
        "Número de vecinos compartidos Una medida de similitud más:\n"
      ]
    },
    {
      "cell_type": "markdown",
      "metadata": {
        "id": "-Ee0kj1eMa4G"
      },
      "source": [
        "### 5. Supuestos y Restricciones:"
      ]
    },
    {
      "cell_type": "markdown",
      "metadata": {
        "id": "pUfcFWJJip2B"
      },
      "source": [
        "\n",
        "El algoritmo de Clustering Jerárquico no está basado en supuestos específicos como algunos algoritmos de regresión o clasificación. Sin embargo, hay algunas consideraciones y restricciones que debes tener en cuenta al utilizar este enfoque:\n",
        "\n",
        "**1. Métrica de Distancia :**\n",
        "Debes elegir una métrica de distancia adecuada para calcular la similitud entre puntos de datos o clústeres. La elección de la métrica puede afectar los resultados del agrupamiento. Es importante seleccionar una métrica que tenga sentido para tus datos y el problema que estás abordando.\n",
        "\n",
        "**2. Sensibilidad a la Escala:**\n",
        "El Clustering Jerárquico puede ser sensible a la escala de las variables. Si algunas variables tienen escalas muy diferentes, es posible que la métrica de distancia sea dominada por las variables con mayor escala. La normalización o estandarización de los datos puede ser necesaria para mitigar este problema.\n",
        "\n",
        "**3. Complejidad Computacional:**\n",
        "El Clustering Jerárquico puede volverse computacionalmente intensivo, especialmente en conjuntos de datos grandes. El cálculo de distancias y la construcción del dendrograma pueden requerir mucho tiempo y recursos en datasets extensos.\n",
        "\n",
        "**4. Elección del Método de Enlace:**\n",
        "Debes decidir qué método de enlace utilizar para calcular la distancia entre clústeres durante el proceso de agrupamiento. Los diferentes métodos pueden conducir a agrupamientos ligeramente diferentes. La elección del método de enlace puede depender de la estructura de tus datos y tus objetivos.\n",
        "\n",
        "**5. Interpretación del Dendrograma:**\n",
        "Interpretar el dendrograma puede ser subjetivo y depende de tus objetivos de análisis. Decidir dónde cortar el dendrograma para formar clústeres puede afectar la interpretación de los resultados. No hay una regla estricta para determinar cuántos clústeres son los adecuados.\n",
        "\n",
        "**6. No Adaptable en Línea:**\n",
        "El Clustering Jerárquico no se adapta bien a nuevos datos en tiempo real. Una vez que se construye el dendrograma, es difícil agregar nuevos datos o ajustar los clústeres de manera eficiente.\n",
        "\n"
      ]
    },
    {
      "cell_type": "markdown",
      "metadata": {
        "id": "eeHwmP89Me0x"
      },
      "source": [
        "### 6. Ejemplo"
      ]
    },
    {
      "cell_type": "code",
      "execution_count": 1,
      "metadata": {},
      "outputs": [
        {
          "data": {
            "image/png": "[encoded data removed]",
            "text/plain": [
              "<Figure size 800x600 with 1 Axes>"
            ]
          },
          "metadata": {},
          "output_type": "display_data"
        },
        {
          "name": "stdout",
          "output_type": "stream",
          "text": [
            "Cluster labels at threshold = 0.5\n",
            "[16 19 18 14 10 17 13 15  6  7  8 11  3  9 12  4  5  2  1  0]\n"
          ]
        }
      ],
      "source": [
        "import numpy as np\n",
        "import matplotlib.pyplot as plt\n",
        "from sklearn.cluster import AgglomerativeClustering\n",
        "from scipy.cluster.hierarchy import dendrogram\n",
        "\n",
        "# Generate some sample data\n",
        "np.random.seed(0)\n",
        "n_samples = 20\n",
        "X = np.random.rand(n_samples, 2)\n",
        "\n",
        "# Perform hierarchical clustering\n",
        "agg_clustering = AgglomerativeClustering(n_clusters=None, distance_threshold=0).fit(X)\n",
        "\n",
        "# Plot dendrogram\n",
        "def plot_dendrogram(model, **kwargs):\n",
        "    # Create linkage matrix\n",
        "    children = model.children_\n",
        "    distances = np.arange(children.shape[0])\n",
        "    no_of_observations = np.arange(2, children.shape[0] + 2)\n",
        "    linkage_matrix = np.column_stack([children, distances, no_of_observations]).astype(float)\n",
        "    \n",
        "    # Plot dendrogram\n",
        "    dendrogram(linkage_matrix, **kwargs)\n",
        "\n",
        "plt.figure(figsize=(8, 6))\n",
        "plt.title('Hierarchical Clustering Dendrogram')\n",
        "plot_dendrogram(agg_clustering)\n",
        "plt.xlabel('Sample Index')\n",
        "plt.ylabel('Cluster Distance')\n",
        "plt.show()\n",
        "\n",
        "# You can also retrieve the cluster assignments at a certain distance threshold\n",
        "distance_threshold = 0.5\n",
        "cluster_labels = agg_clustering.labels_\n",
        "\n",
        "print(\"Cluster labels at threshold =\", distance_threshold)\n",
        "print(cluster_labels)\n"
      ]
    }
  ],
  "metadata": {
    "colab": {
      "include_colab_link": true,
      "provenance": []
    },
    "kernelspec": {
      "display_name": "Python 3",
      "name": "python3"
    },
    "language_info": {
      "codemirror_mode": {
        "name": "ipython",
        "version": 3
      },
      "file_extension": ".py",
      "mimetype": "text/x-python",
      "name": "python",
      "nbconvert_exporter": "python",
      "pygments_lexer": "ipython3",
      "version": "3.10.10"
    }
  },
  "nbformat": 4,
  "nbformat_minor": 0
}
