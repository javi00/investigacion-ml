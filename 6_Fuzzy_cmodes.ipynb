{
 "cells": [
  {
   "cell_type": "markdown",
   "metadata": {},
   "source": [
    "## Algortimo  Fuzzy C-modes\n",
    "#### por  Javier Vallejos"
   ]
  },
  {
   "cell_type": "markdown",
   "metadata": {},
   "source": [
    "### 1. Descripción"
   ]
  },
  {
   "cell_type": "markdown",
   "metadata": {},
   "source": [
    "The Fuzzy C-Modes (FCM) algorithm is a variant of the Fuzzy C-Means (FCM) clustering algorithm designed to handle categorical data, making it suitable for scenarios where the attributes are non-numeric or discrete in nature. FCM is primarily used for clustering data points into groups, but FCM specifically accommodates categorical data by introducing a mode concept for each cluster."
   ]
  },
  {
   "cell_type": "markdown",
   "metadata": {},
   "source": [
    "### 2. Birtex y Referencias"
   ]
  },
  {
   "cell_type": "markdown",
   "metadata": {},
   "source": [
    "* https://www.researchgate.net/publication/328639277_Fuzzy_Clustering_Algorithm_Efficient_Implementation_Using_Centre_of_Centres"
   ]
  },
  {
   "cell_type": "markdown",
   "metadata": {},
   "source": [
    "### 3. Tipo de Modelo"
   ]
  },
  {
   "cell_type": "markdown",
   "metadata": {},
   "source": [
    "El algoritmo Fuzzy C-Modes (FCM) suele ser:\n",
    "\n",
    "* Supervisado o no supervisado: FCM es principalmente un algoritmo de agrupación en clústeres no supervisado. No requiere conocimiento previo de las etiquetas de clase ni supervisión para agrupar puntos de datos en grupos. Sin embargo, se puede adaptar a escenarios semisupervisados incorporando información de clase en los cálculos de membresía si es necesario.\n",
    "\n",
    "* Aprendizaje por lotes o en línea: FCM suele ser un algoritmo de aprendizaje por lotes. Procesa todos los puntos de datos en un lote en cada iteración para actualizar los centroides del clúster y los valores de membresía. Existen variaciones de FCM que se pueden adaptar para el aprendizaje en línea, pero el algoritmo FCM clásico está diseñado para el procesamiento por lotes.\n",
    "\n",
    "* Basado en instancias o basado en modelos: FCM se considera un algoritmo de agrupación basado en modelos. Construye un modelo de centroides de clústeres y membresías difusas para representar la estructura de datos subyacente. Por el contrario, los métodos basados en instancias, como K-Nearest Neighbors (K-NN), clasifican puntos de datos según las instancias más cercanas en el conjunto de entrenamiento sin crear explícitamente un modelo.\n",
    "\n",
    "* Paramétrico o no paramétrico: FCM se considera un algoritmo paramétrico. Se supone que los datos pueden representarse mediante un conjunto de parámetros, específicamente los centroides del grupo y los valores de membresía. Esto contrasta con los métodos no paramétricos como la estimación de densidad del núcleo (KDE) o la agrupación jerárquica, que no hacen suposiciones específicas sobre la forma o el número de agrupaciones en los datos y pueden adaptarse a distribuciones de datos complejas."
   ]
  },
  {
   "cell_type": "markdown",
   "metadata": {},
   "source": [
    "### 4. Algoritmos de entrenamiento"
   ]
  },
  {
   "cell_type": "markdown",
   "metadata": {},
   "source": [
    "El algoritmo de entrenamiento para Fuzzy C-Modes (FCM) implica actualizar iterativamente los modos de clúster y los valores de membresía hasta la convergencia. Aquí hay un desglose más detallado del proceso de capacitación:\n",
    "\n",
    "Inicialización:\n",
    "    Determine la cantidad de clústeres (K) que desea crear.\n",
    "    Inicializar modos de clúster: para cada clúster, asigne un modo inicial, normalmente seleccionando aleatoriamente una categoría del atributo categórico de cada clúster.\n",
    "\n",
    "1. Asignación de membresía:\n",
    "    Calcule el grado de membresía (u_ik) para cada punto de datos (i) de cada grupo (k). Este grado de membresía representa la similitud del punto de datos con el modo de clúster.\n",
    "    El valor de membresía a menudo se calcula utilizando una medida de similitud o disimilitud apropiada para datos categóricos. Las medidas comunes incluyen la similitud de Jaccard, el coeficiente de Dice o el coeficiente de coincidencia simple.\n",
    "    La fórmula para calcular los valores de membresía puede variar, pero normalmente implica comparar la categoría del punto de datos con la categoría del modo de clúster. Una mayor similitud da como resultado un mayor valor de membresía.\n",
    "\n",
    "2. Actualización de modo:\n",
    "    Actualice los modos del clúster según los valores de membresía calculados. El nuevo modo de conglomerado se calcula para cada conglomerado (k) encontrando la categoría que maximiza la suma ponderada de los valores de membresía para los puntos de datos en ese conglomerado.\n",
    "    La suma ponderada se calcula multiplicando el valor de membresía de cada punto de datos (u_ik) al grupo (k) con el valor de categoría correspondiente para el atributo de ese punto de datos.\n",
    "\n",
    "3. Verificación de convergencia:\n",
    "    Verifique la convergencia midiendo cuánto han cambiado los modos de clúster y los valores de membresía desde la iteración anterior. Un criterio de convergencia común es monitorear el cambio en los modos del clúster y detener la iteración cuando cae por debajo de un umbral predefinido o cuando se alcanza un número máximo de iteraciones.\n",
    "\n",
    "4. Iteración:\n",
    "    Si no se cumple el criterio de convergencia, regrese al paso 2 y repita los pasos de asignación de membresía y actualización de modo hasta que se logre la convergencia.\n",
    "\n",
    "5. Asignación final del grupo:\n",
    "    Después de la convergencia, asigne puntos de datos a los grupos según sus valores de membresía más altos. Los puntos de datos pueden pertenecer a varios grupos con distintos grados de membresía, lo que refleja el grado de asociación con cada grupo.\n",
    "\n",
    "6. Producción:\n",
    "    El resultado final del algoritmo FCM es un conjunto de modos de conglomerado y la asignación de puntos de datos a los conglomerados, junto con sus grados de membresía."
   ]
  },
  {
   "cell_type": "markdown",
   "metadata": {},
   "source": [
    "### 5. Supuestos y restricciones"
   ]
  },
  {
   "cell_type": "markdown",
   "metadata": {},
   "source": [
    "El algoritmo Fuzzy C-Modes (FCM), como cualquier algoritmo de agrupación, viene con ciertas suposiciones y restricciones que influyen en su aplicabilidad y rendimiento. A continuación se presentan algunas suposiciones y restricciones clave de FCM:\n",
    "\n",
    "Supuestos:\n",
    "\n",
    "Independencia de los datos: FCM asume que los puntos de datos son independientes entre sí, lo que significa que la agrupación de un punto de datos no afecta directamente la agrupación de otros. Esta es una suposición común en muchos algoritmos de agrupamiento.\n",
    "\n",
    "Forma del grupo: FCM supone que los grupos tienen una forma aproximadamente esférica o convexa en el espacio de características. Si los grupos reales tienen formas complejas o no convexas, es posible que FCM no funcione bien, ya que optimiza los modos de grupo basados en centroides y puede tener dificultades para capturar grupos de formas irregulares.\n",
    "\n",
    "Tamaños de conglomerados homogéneos: FCM supone que los conglomerados tienen tamaños aproximadamente iguales. Si hay variaciones significativas en el tamaño de los grupos, esto puede afectar la calidad de los resultados de la agrupación, ya que el algoritmo trata a todos los grupos por igual.\n",
    "\n",
    "Restricciones:\n",
    "\n",
    "Limitado a datos categóricos: FCM está diseñado específicamente para datos categóricos o binarios. No es adecuado para datos numéricos, ya que carece del marco matemático para manejar variables continuas.\n",
    "\n",
    "Sensibilidad a la inicialización: al igual que otros algoritmos de agrupación en clústeres iterativos, el rendimiento de FCM puede ser sensible a la ubicación inicial de los modos de agrupación. Diferentes inicializaciones pueden conducir a diferentes soluciones, incluidos los óptimos locales. Por lo tanto, pueden ser necesarias estrategias de inicialización cuidadosas o ejecuciones múltiples con diferentes inicializaciones para obtener resultados sólidos.\n",
    "\n",
    "Dificultad con datos de alta dimensión: FCM puede enfrentar desafíos cuando se aplica a datos de alta dimensión debido a la \"maldición de la dimensionalidad\". En espacios de alta dimensión, los puntos de datos pueden volverse escasos y las medidas de similitud utilizadas para los atributos categóricos pueden perder su eficacia. Es posible que se necesiten técnicas de reducción de dimensionalidad o selección de características para mitigar este problema.\n",
    "\n",
    "Escalabilidad: la complejidad computacional de FCM aumenta con la cantidad de puntos y grupos de datos. Para grandes conjuntos de datos o una gran cantidad de clústeres, FCM puede volverse computacionalmente intensivo. Puede ser necesario considerar técnicas de optimización o paralelización para manejar datos a gran escala de manera eficiente.\n",
    "\n",
    "Falta de manejo de valores atípicos: FCM no maneja inherentemente valores atípicos. Los valores atípicos pueden afectar significativamente la formación de grupos, especialmente si se les asignan valores altos de membresía a múltiples grupos. Puede ser necesario un procesamiento previo para detectar y manejar valores atípicos.\n",
    "\n",
    "Determinación manual del número de grupos: como muchos algoritmos de agrupación, FCM requiere que el usuario especifique el número de grupos (K) de antemano. Seleccionar una K adecuada puede ser un desafío y puede requerir conocimiento del dominio o técnicas adicionales como el método del codo o el análisis de la silueta."
   ]
  },
  {
   "cell_type": "markdown",
   "metadata": {},
   "source": [
    "### 6. Ejemplo"
   ]
  },
  {
   "cell_type": "code",
   "execution_count": 15,
   "metadata": {},
   "outputs": [
    {
     "name": "stdout",
     "output_type": "stream",
     "text": [
      "Cluster Assignments:\n",
      "[0 0 0 0 0 0 0 0 0 0 0 0 0 0 0 0 0 0 0 0 0 0 0 0 0 0 0 0 0 0 0 0 0 0 0 0 0\n",
      " 0 0 0 0 0 0 0 0 0 0 0 0 0 0 0 0 0 0 0 0 0 0 0 0 0 0 0 0 0 0 0 0 0 0 0 0 0\n",
      " 0 0 0 0 0 0 0 0 0 0 0 0 0 0 0 0 0 0 0 0 0 0 0 0 0 0]\n",
      "\n",
      "Cluster Modes:\n",
      "[[1. 1.]\n",
      " [1. 1.]\n",
      " [1. 1.]]\n"
     ]
    }
   ],
   "source": [
    "import numpy as np\n",
    "\n",
    "def initialize_membership(data_size, num_clusters):\n",
    "    return np.random.rand(data_size, num_clusters)\n",
    "\n",
    "def update_cluster_modes(data, membership, num_clusters):\n",
    "    modes = []\n",
    "    for k in range(num_clusters):\n",
    "        mode = np.sum(membership[:, k] * data.T, axis=1) / np.sum(membership[:, k])\n",
    "        modes.append(mode)\n",
    "    return np.array(modes)\n",
    "\n",
    "def calculate_membership(data, modes, m):\n",
    "    distances = np.linalg.norm(data[:, np.newaxis] - modes, axis=2)\n",
    "    return 1.0 / (distances ** (2 / (m - 1)))\n",
    "\n",
    "def fcm(data, num_clusters, max_iters=100, m=2, error_threshold=1e-5):\n",
    "    data_size = data.shape[0]\n",
    "    \n",
    "    # Initialize membership matrix randomly\n",
    "    membership = initialize_membership(data_size, num_clusters)\n",
    "    \n",
    "    for iteration in range(max_iters):\n",
    "        # Store previous membership for convergence check\n",
    "        prev_membership = np.copy(membership)\n",
    "        \n",
    "        # Update cluster modes\n",
    "        modes = update_cluster_modes(data, membership, num_clusters)\n",
    "        \n",
    "        # Calculate new membership values\n",
    "        membership = calculate_membership(data, modes, m)\n",
    "        \n",
    "        # Check for convergence\n",
    "        diff = np.linalg.norm(membership - prev_membership)\n",
    "        if diff < error_threshold:\n",
    "            break\n",
    "    \n",
    "    # Assign data points to clusters based on highest membership\n",
    "    cluster_assignments = np.argmax(membership, axis=1)\n",
    "    \n",
    "    return cluster_assignments, modes\n",
    "\n",
    "if __name__ == \"__main__\":\n",
    "    # Generate some sample categorical data (replace with your own data)\n",
    "    num_data_points = 100\n",
    "    num_categories = 3\n",
    "    data = np.random.randint(0, num_categories, size=(num_data_points, 2))\n",
    "    \n",
    "    num_clusters = 3\n",
    "    cluster_assignments, cluster_modes = fcm(data, num_clusters)\n",
    "    \n",
    "    print(\"Cluster Assignments:\")\n",
    "    print(cluster_assignments)\n",
    "    print(\"\\nCluster Modes:\")\n",
    "    print(cluster_modes)\n",
    "\n"
   ]
  }
 ],
 "metadata": {
  "kernelspec": {
   "display_name": "machinel1",
   "language": "python",
   "name": "python3"
  },
  "language_info": {
   "codemirror_mode": {
    "name": "ipython",
    "version": 3
   },
   "file_extension": ".py",
   "mimetype": "text/x-python",
   "name": "python",
   "nbconvert_exporter": "python",
   "pygments_lexer": "ipython3",
   "version": "3.10.10"
  },
  "orig_nbformat": 4
 },
 "nbformat": 4,
 "nbformat_minor": 2
}
